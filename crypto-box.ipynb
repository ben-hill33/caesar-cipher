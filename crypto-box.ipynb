{
 "metadata": {
  "language_info": {
   "codemirror_mode": {
    "name": "ipython",
    "version": 3
   },
   "file_extension": ".py",
   "mimetype": "text/x-python",
   "name": "python",
   "nbconvert_exporter": "python",
   "pygments_lexer": "ipython3",
   "version": "3.8.7-final"
  },
  "orig_nbformat": 2,
  "kernelspec": {
   "name": "python3",
   "display_name": "Python 3.8.7 64-bit",
   "metadata": {
    "interpreter": {
     "hash": "1ee38ef4a5a9feb55287fd749643f13d043cb0a7addaab2a9c224cbe137c0062"
    }
   }
  }
 },
 "nbformat": 4,
 "nbformat_minor": 2,
 "cells": [
  {
   "cell_type": "code",
   "execution_count": 6,
   "metadata": {},
   "outputs": [],
   "source": [
    "import requests"
   ]
  },
  {
   "source": [
    "encrypt('12345', 1) -> '23456"
   ],
   "cell_type": "markdown",
   "metadata": {}
  },
  {
   "cell_type": "code",
   "execution_count": 7,
   "metadata": {},
   "outputs": [],
   "source": [
    "def encrypt(plain, key):\n",
    "    encrypted_text = ''\n",
    "    for char in plain:\n",
    "        # print(char)\n",
    "        temp = int(char)\n",
    "        # print(temp)\n",
    "        # while temp > 9:\n",
    "        #     temp -= 10\n",
    "        temp2 = (temp + key) % 10\n",
    "        encrypted_text += str(temp2)\n",
    "    return encrypted_text\n"
   ]
  },
  {
   "cell_type": "code",
   "execution_count": 8,
   "metadata": {},
   "outputs": [
    {
     "output_type": "execute_result",
     "data": {
      "text/plain": [
       "'23456'"
      ]
     },
     "metadata": {},
     "execution_count": 8
    }
   ],
   "source": [
    "encrypt('12345', 1)"
   ]
  },
  {
   "cell_type": "code",
   "execution_count": 9,
   "metadata": {},
   "outputs": [
    {
     "output_type": "execute_result",
     "data": {
      "text/plain": [
       "'789'"
      ]
     },
     "metadata": {},
     "execution_count": 9
    }
   ],
   "source": [
    "encrypt('678', 1)"
   ]
  },
  {
   "cell_type": "code",
   "execution_count": 10,
   "metadata": {},
   "outputs": [
    {
     "output_type": "execute_result",
     "data": {
      "text/plain": [
       "'123'"
      ]
     },
     "metadata": {},
     "execution_count": 10
    }
   ],
   "source": [
    "encrypt('678', 5)"
   ]
  },
  {
   "cell_type": "code",
   "execution_count": 11,
   "metadata": {},
   "outputs": [
    {
     "output_type": "execute_result",
     "data": {
      "text/plain": [
       "'901'"
      ]
     },
     "metadata": {},
     "execution_count": 11
    }
   ],
   "source": [
    "encrypt('678', 13)"
   ]
  },
  {
   "cell_type": "code",
   "execution_count": 12,
   "metadata": {},
   "outputs": [],
   "source": [
    "def decrypt(encoded, key):\n",
    "    decrypted_text = encrypt(encoded, -key)\n",
    "    return decrypted_text"
   ]
  },
  {
   "cell_type": "code",
   "execution_count": 14,
   "metadata": {},
   "outputs": [
    {
     "output_type": "execute_result",
     "data": {
      "text/plain": [
       "'9012'"
      ]
     },
     "metadata": {},
     "execution_count": 14
    }
   ],
   "source": [
    "try_one = encrypt('5678', 1234)\n",
    "try_one"
   ]
  },
  {
   "cell_type": "code",
   "execution_count": 15,
   "metadata": {},
   "outputs": [
    {
     "output_type": "execute_result",
     "data": {
      "text/plain": [
       "'6789'"
      ]
     },
     "metadata": {},
     "execution_count": 15
    }
   ],
   "source": [
    "try_two = decrypt(try_one, 3)\n",
    "try_two"
   ]
  },
  {
   "cell_type": "code",
   "execution_count": null,
   "metadata": {},
   "outputs": [],
   "source": []
  }
 ]
}